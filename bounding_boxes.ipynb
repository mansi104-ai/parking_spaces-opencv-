{
 "cells": [
  {
   "cell_type": "code",
   "execution_count": null,
   "metadata": {},
   "outputs": [],
   "source": [
    "#importing the libraries\n",
    "import os\n",
    "import numpy as np\n",
    "import cv2\n",
    "import mrcnn.config\n",
    "import mrcnn.utils\n",
    "from mrcnn.model import MaskRCNN\n",
    "from pathlib import Path\n"
   ]
  },
  {
   "cell_type": "markdown",
   "metadata": {},
   "source": [
    "PYTHON CODE TO DETECT THE BOUNDING BOXES OF CARS USING THE PRE-TRAINED MODEL FROM MATTERPORT'S MASK R-CNN IMPLEMENTATION"
   ]
  },
  {
   "cell_type": "code",
   "execution_count": null,
   "metadata": {},
   "outputs": [],
   "source": [
    "# Configuration that will be used by the Mask-RCNN library\n",
    "class MaskRCNNConfig(mrcnn.config.Config):\n",
    "    NAME = \"coco_pretrained_model_config\"\n",
    "    IMAGES_PER_GPU = 1\n",
    "    GPU_COUNT = 1\n",
    "    NUM_CLASSES = 1 + 80  # COCO dataset has 80 classes + one background class\n",
    "    DETECTION_MIN_CONFIDENCE = 0.6"
   ]
  },
  {
   "cell_type": "code",
   "execution_count": null,
   "metadata": {},
   "outputs": [],
   "source": [
    "# Filter a list of Mask R-CNN detection results to get only the detected cars / trucks\n",
    "def get_car_boxes(boxes, class_ids):\n",
    "    car_boxes = []\n",
    "\n",
    "    for i, box in enumerate(boxes):\n",
    "        # If the detected object isn't a car / truck, skip it\n",
    "        if class_ids[i] in [3, 8, 6]:\n",
    "            car_boxes.append(box)\n",
    "\n",
    "    return np.array(car_boxes)"
   ]
  },
  {
   "cell_type": "code",
   "execution_count": null,
   "metadata": {},
   "outputs": [],
   "source": [
    "\n",
    "# Root directory of the project\n",
    "ROOT_DIR = Path(\".\")\n",
    "\n",
    "# Directory to save logs and trained model\n",
    "MODEL_DIR = os.path.join(ROOT_DIR, \"logs\")\n",
    "\n",
    "# Local path to trained weights file\n",
    "COCO_MODEL_PATH = os.path.join(ROOT_DIR, \"mask_rcnn_coco.h5\")\n",
    "\n",
    "# Download COCO trained weights from Releases if needed\n",
    "if not os.path.exists(COCO_MODEL_PATH):\n",
    "    mrcnn.utils.download_trained_weights(COCO_MODEL_PATH)\n"
   ]
  },
  {
   "cell_type": "code",
   "execution_count": null,
   "metadata": {},
   "outputs": [],
   "source": [
    "# Directory of images to run detection on\n",
    "IMAGE_DIR = os.path.join(ROOT_DIR, \"images\")\n",
    "\n",
    "# Video file or camera to process - set this to 0 to use your webcam instead of a video file\n",
    "VIDEO_SOURCE = \"test_images/parking.mp4\"\n",
    "\n",
    "# Create a Mask-RCNN model in inference mode\n",
    "model = MaskRCNN(mode=\"inference\", model_dir=MODEL_DIR, config=MaskRCNNConfig())\n",
    "\n",
    "# Load pre-trained model\n",
    "model.load_weights(COCO_MODEL_PATH, by_name=True)"
   ]
  },
  {
   "cell_type": "code",
   "execution_count": null,
   "metadata": {},
   "outputs": [],
   "source": [
    "# Location of parking spaces\n",
    "parked_car_boxes = None\n",
    "\n",
    "# Load the video file we want to run detection on\n",
    "video_capture = cv2.VideoCapture(VIDEO_SOURCE)\n",
    "\n",
    "# Loop over each frame of video\n",
    "while video_capture.isOpened():\n",
    "    success, frame = video_capture.read()\n",
    "    if not success:\n",
    "        break\n",
    "\n",
    "    # Convert the image from BGR color (which OpenCV uses) to RGB color\n",
    "    rgb_image = frame[:, :, ::-1]\n",
    "\n",
    "    # Run the image through the Mask R-CNN model to get results.\n",
    "    results = model.detect([rgb_image], verbose=0)"
   ]
  },
  {
   "cell_type": "code",
   "execution_count": null,
   "metadata": {},
   "outputs": [],
   "source": [
    " # Mask R-CNN assumes we are running detection on multiple images.\n",
    "    # We only passed in one image to detect, so only grab the first result.\n",
    "r = results[0]\n",
    "\n",
    "    # The r variable will now have the results of detection:\n",
    "    # - r['rois'] are the bounding box of each detected object\n",
    "    # - r['class_ids'] are the class id (type) of each detected object\n",
    "    # - r['scores'] are the confidence scores for each detection\n",
    "    # - r['masks'] are the object masks for each detected object (which gives you the object outline)\n",
    "\n",
    "    # Filter the results to only grab the car / truck bounding boxes\n",
    "car_boxes = get_car_boxes(r['rois'], r['class_ids'])\n",
    "\n",
    "print(\"Cars found in frame of video:\")"
   ]
  },
  {
   "cell_type": "code",
   "execution_count": null,
   "metadata": {},
   "outputs": [],
   "source": [
    " # Draw each box on the frame\n",
    "    for box in car_boxes:\n",
    "        print(\"Car: \", box)\n",
    "\n",
    "        y1, x1, y2, x2 = box\n",
    "\n",
    "        # Draw the box\n",
    "        cv2.rectangle(frame, (x1, y1), (x2, y2), (0, 255, 0), 1)\n",
    "\n",
    "    # Show the frame of video on the screen\n",
    "    cv2.imshow('Video', frame)\n",
    "\n",
    "    # Hit 'q' to quit\n",
    "    if cv2.waitKey(1) & 0xFF == ord('q'):\n",
    "        break\n",
    "\n",
    "# Clean up everything when finished\n",
    "video_capture.release()\n",
    "cv2.destroyAllWindows()"
   ]
  }
 ],
 "metadata": {
  "language_info": {
   "name": "python"
  },
  "orig_nbformat": 4
 },
 "nbformat": 4,
 "nbformat_minor": 2
}
